{
 "cells": [
  {
   "cell_type": "markdown",
   "id": "1b012de8",
   "metadata": {},
   "source": [
    "# RP2040 UF2 Upload Walkthrough\n",
    "This notebook mirrors the foolproof process documented in the project README and lets you rerun the exact shell commands cell by cell."
   ]
  },
  {
   "cell_type": "markdown",
   "id": "1e79d6df",
   "metadata": {},
   "source": [
    "## Prerequisites\n",
    "- PlatformIO CLI is installed at `~/.platformio/penv/bin/pio` (VS Code installs this automatically).\n",
    "- You opened the workspace folder: `/home/felg/github/rp2040-zero-docs-pinout-platformio-project/platformio-hello-world`.\n",
    "- The RP2040 is connected over USB and, if necessary, already in BOOTSEL mode (hold BOOTSEL while plugging in)."
   ]
  },
  {
   "cell_type": "markdown",
   "id": "0986c5cf",
   "metadata": {},
   "source": [
    "## Step 0. Prepare a dedicated Python environment (cell 1)\n",
    "Set up a reusable virtual environment for notebook helpers, then publish its kernel so every Jupyter front end can select it without reconfiguring paths. Run the next two cells once on a new machine. If you see an \"externally managed\" pip error, it means you installed outside the venv—rerun these cells instead of using the system-wide `pip`."
   ]
  },
  {
   "cell_type": "code",
   "execution_count": null,
   "id": "f3e6c4cc",
   "metadata": {},
   "outputs": [],
   "source": [
    "%%bash\n",
    "set -euo pipefail\n",
    "VENV=\"${HOME}/.venvs/rp2040-upload\"\n",
    "mkdir -p \"$(dirname \"${VENV}\")\"\n",
    "python3 -m venv --upgrade \"${VENV}\"\n",
    "\"${VENV}/bin/python\" -m pip install --upgrade pip ipykernel"
   ]
  },
  {
   "cell_type": "code",
   "execution_count": null,
   "id": "fe66ec8c",
   "metadata": {},
   "outputs": [],
   "source": [
    "%%bash\n",
    "set -euo pipefail\n",
    "VENV=\"${HOME}/.venvs/rp2040-upload\"\n",
    "sudo \"${VENV}/bin/python\" -m ipykernel install --name rp2040-upload --display-name \"Python (rp2040-upload)\" --prefix /usr/local"
   ]
  },
  {
   "cell_type": "markdown",
   "id": "8356b7c8",
   "metadata": {},
   "source": [
    "## Step 1. Confirm the UF2 drive is mounted (cell 3)\n",
    "Run the next cell to verify that the RP2040 exposes the `RPI-RP2` mass-storage volume. If you do not see it, unplug power, hold the BOOT button while reconnecting USB, then release the button once the drive appears. Rerun the cell—you should see `RPI-RP2` listed."
   ]
  },
  {
   "cell_type": "code",
   "execution_count": 14,
   "id": "6708bfd9",
   "metadata": {},
   "outputs": [
    {
     "name": "stdout",
     "output_type": "stream",
     "text": [
      "RPI-RP2\n"
     ]
    }
   ],
   "source": [
    "%%bash\n",
    "ls /run/media/$USER"
   ]
  },
  {
   "cell_type": "markdown",
   "id": "f4eeb8a1",
   "metadata": {},
   "source": [
    "## Step 2. Build the UF2 firmware (cell 5)\n",
    "Invoke PlatformIO for the `pico_uf2` environment. This regenerates `.pio/build/pico_uf2/firmware.uf2` using the Arduino framework sketch. Flashing this UF2 once installs firmware that lets future uploads jump into BOOTSEL automatically."
   ]
  },
  {
   "cell_type": "code",
   "execution_count": null,
   "id": "53b89e24",
   "metadata": {},
   "outputs": [],
   "source": [
    "%%bash\n",
    "cd /home/felg/github/rp2040-zero-docs-pinout-platformio-project/platformio-hello-world\n",
    "~/.platformio/penv/bin/pio run -e pico_uf2"
   ]
  },
  {
   "cell_type": "markdown",
   "id": "46e0d567",
   "metadata": {},
   "source": [
    "## Step 3. Copy the UF2 onto the RP2040 (cell 7)\n",
    "Copy the freshly built UF2 file to the mounted `RPI-RP2` volume, then flush write buffers with `sync` to ensure the transfer completes. As soon as the copy finishes, the board reboots with the new firmware that can self-enter BOOTSEL."
   ]
  },
  {
   "cell_type": "code",
   "execution_count": 15,
   "id": "d32009d2",
   "metadata": {},
   "outputs": [
    {
     "name": "stderr",
     "output_type": "stream",
     "text": [
      "bash: line 1: cd: /home/felg/github/rp2040-zero-docs-pinout-platformio-project/platformio-hello-world: No such file or directory\n"
     ]
    }
   ],
   "source": [
    "%%bash\n",
    "cd /home/felg/github/rp2040-zero-docs-pinout-platformio-project/platformio-hello-world\n",
    "cp .pio/build/pico_uf2/firmware.uf2 /run/media/$USER/RPI-RP2/\n",
    "sync"
   ]
  },
  {
   "cell_type": "markdown",
   "id": "0c560b84",
   "metadata": {},
   "source": [
    "## Step 4. Verify the drive auto-ejected (cell 9)\n",
    "After a successful copy, the RP2040 boots the new firmware and the `RPI-RP2` volume disappears. Rerun the directory listing to confirm. If the drive is still present, wait a second and repeat—some USB hubs take an extra moment to drop the device."
   ]
  },
  {
   "cell_type": "code",
   "execution_count": null,
   "id": "92c87541",
   "metadata": {},
   "outputs": [],
   "source": [
    "%%bash\n",
    "ls /run/media/$USER"
   ]
  },
  {
   "cell_type": "markdown",
   "id": "9edf4500",
   "metadata": {},
   "source": [
    "## Step 5. Optional: Reopen the serial monitor (cell 11)\n",
    "Once the board reboots into your sketch, you can reconnect the serial monitor. Stop the monitor with `Ctrl+C` when finished."
   ]
  },
  {
   "cell_type": "code",
   "execution_count": null,
   "id": "6f9049e6",
   "metadata": {},
   "outputs": [],
   "source": [
    "%%bash\n",
    "cd /home/felg/github/rp2040-zero-docs-pinout-platformio-project/platformio-hello-world\n",
    "~/.platformio/penv/bin/pio device monitor -b 115200"
   ]
  },
  {
   "cell_type": "markdown",
   "id": "99d8ffb3",
   "metadata": {},
   "source": [
    "## Next steps\n",
    "- Return to the README section \"Foolproof Upload Recipes\" for troubleshooting tips.\n",
    "- Adapt the commands for other boards or environments by swapping the PlatformIO environment name or upload path as needed."
   ]
  }
 ],
 "metadata": {
  "kernelspec": {
   "display_name": "rp2040-upload (3.13.7)",
   "language": "python",
   "name": "python3"
  },
  "language_info": {
   "codemirror_mode": {
    "name": "ipython",
    "version": 3
   },
   "file_extension": ".py",
   "mimetype": "text/x-python",
   "name": "python",
   "nbconvert_exporter": "python",
   "pygments_lexer": "ipython3",
   "version": "3.13.7"
  }
 },
 "nbformat": 4,
 "nbformat_minor": 5
}
